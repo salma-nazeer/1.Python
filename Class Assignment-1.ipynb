{
 "cells": [
  {
   "cell_type": "code",
   "execution_count": 1,
   "id": "6ded9e48-e8fb-42f7-98e7-1b18f2890b3e",
   "metadata": {},
   "outputs": [],
   "source": [
    "from Allfunctions import allfunctions"
   ]
  },
  {
   "cell_type": "code",
   "execution_count": 3,
   "id": "6d6feb52-84aa-4dc2-83e4-2aee0d72137a",
   "metadata": {},
   "outputs": [
    {
     "ename": "NameError",
     "evalue": "name 'SubfieldsInAI' is not defined",
     "output_type": "error",
     "traceback": [
      "\u001b[1;31m---------------------------------------------------------------------------\u001b[0m",
      "\u001b[1;31mNameError\u001b[0m                                 Traceback (most recent call last)",
      "Cell \u001b[1;32mIn[3], line 1\u001b[0m\n\u001b[1;32m----> 1\u001b[0m allfunctions\u001b[38;5;241m.\u001b[39msubfields()\n",
      "File \u001b[1;32mD:\\hope ai\\python new\\Allfunctions.py:3\u001b[0m, in \u001b[0;36mallfunctions.subfields\u001b[1;34m()\u001b[0m\n\u001b[0;32m      2\u001b[0m \u001b[38;5;28;01mdef\u001b[39;00m \u001b[38;5;21msubfields\u001b[39m():\n\u001b[1;32m----> 3\u001b[0m     \u001b[38;5;28;01mfor\u001b[39;00m subfields \u001b[38;5;129;01min\u001b[39;00m SubfieldsInAI:\n\u001b[0;32m      4\u001b[0m         \u001b[38;5;28mprint\u001b[39m(\u001b[38;5;124m\"\u001b[39m\u001b[38;5;124mSubfields In AI are:\u001b[39m\u001b[38;5;124m\"\u001b[39m)\n\u001b[0;32m      5\u001b[0m         \u001b[38;5;28mprint\u001b[39m(subfields,end\u001b[38;5;241m=\u001b[39m\u001b[38;5;124m\"\u001b[39m\u001b[38;5;124m\"\u001b[39m)\n",
      "\u001b[1;31mNameError\u001b[0m: name 'SubfieldsInAI' is not defined"
     ]
    }
   ],
   "source": [
    "allfunctions.subfields()"
   ]
  },
  {
   "cell_type": "code",
   "execution_count": null,
   "id": "8710034b-2738-46ec-a9b9-bd00ef10087a",
   "metadata": {},
   "outputs": [],
   "source": []
  }
 ],
 "metadata": {
  "kernelspec": {
   "display_name": "Python [conda env:base] *",
   "language": "python",
   "name": "conda-base-py"
  },
  "language_info": {
   "codemirror_mode": {
    "name": "ipython",
    "version": 3
   },
   "file_extension": ".py",
   "mimetype": "text/x-python",
   "name": "python",
   "nbconvert_exporter": "python",
   "pygments_lexer": "ipython3",
   "version": "3.12.7"
  }
 },
 "nbformat": 4,
 "nbformat_minor": 5
}
