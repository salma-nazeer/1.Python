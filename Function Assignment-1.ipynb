{
 "cells": [
  {
   "cell_type": "code",
   "execution_count": 5,
   "id": "20954c41-3020-4a8f-99a4-fa571ade3288",
   "metadata": {},
   "outputs": [],
   "source": [
    "SubfieldsInAI=\"machine learning,neural networks,vision,robotics,speech processing,natural language processing\"\n",
    "def subfields():\n",
    "    for subfields in SubfieldsInAI:\n",
    "        print(\"Subfields In AI are:\")\n",
    "        print(subfields,end=\"\")\n",
    "        return SubfieldsinAI"
   ]
  },
  {
   "cell_type": "code",
   "execution_count": 7,
   "id": "5905a1d4-6d77-4c20-97ca-0d030aae5e12",
   "metadata": {},
   "outputs": [
    {
     "name": "stdout",
     "output_type": "stream",
     "text": [
      "Subfields In AI are:\n",
      "m"
     ]
    },
    {
     "data": {
      "text/plain": [
       "'machine learning,neural networks,vision,robotics,speech processing,natural language processing'"
      ]
     },
     "execution_count": 7,
     "metadata": {},
     "output_type": "execute_result"
    }
   ],
   "source": [
    "subfields()"
   ]
  },
  {
   "cell_type": "code",
   "execution_count": 19,
   "id": "97c98b2c-fe2c-48b7-a477-4cb1e23b1832",
   "metadata": {},
   "outputs": [],
   "source": [
    "def oddeven():\n",
    "    num=int(input(\"Enter a number:\"))\n",
    "    if((num%2)==0):\n",
    "        print(num, \"is Even number\")\n",
    "    else:\n",
    "        print(num, \"is odd number\")\n",
    "        return oddeven"
   ]
  },
  {
   "cell_type": "code",
   "execution_count": 21,
   "id": "410eea7b-6870-4f8e-9e65-db062060133b",
   "metadata": {},
   "outputs": [
    {
     "name": "stdin",
     "output_type": "stream",
     "text": [
      "Enter a number: 52452\n"
     ]
    },
    {
     "name": "stdout",
     "output_type": "stream",
     "text": [
      "52452 is Even number\n"
     ]
    }
   ],
   "source": [
    "oddeven()"
   ]
  },
  {
   "cell_type": "code",
   "execution_count": 23,
   "id": "7f6f596a-56d1-4b28-ad68-99951221d108",
   "metadata": {},
   "outputs": [],
   "source": [
    "male=20\n",
    "female=18\n",
    "def elegibility():\n",
    "    if(male<=21):\n",
    "        print(\"not eligible\")\n",
    "        result=\"not eligible\"\n",
    "    else:\n",
    "        print(\"elegible\")\n",
    "        result=\"elegible\"\n",
    "        return result"
   ]
  },
  {
   "cell_type": "code",
   "execution_count": 25,
   "id": "95050e18-9bc5-4b58-b9c4-ee13ca630c02",
   "metadata": {},
   "outputs": [
    {
     "name": "stdin",
     "output_type": "stream",
     "text": [
      "your gender: male\n",
      "your age: 20\n"
     ]
    },
    {
     "name": "stdout",
     "output_type": "stream",
     "text": [
      "not eligible\n"
     ]
    }
   ],
   "source": [
    "gender=input(\"your gender:\")\n",
    "age=int(input(\"your age:\"))\n",
    "elegibility()"
   ]
  },
  {
   "cell_type": "code",
   "execution_count": 27,
   "id": "71c5483d-5453-444c-9405-09bbc5fc717d",
   "metadata": {},
   "outputs": [],
   "source": [
    "Subject1 = 98  \n",
    "Subject2 = 87  \n",
    "Subject3 = 95  \n",
    "Subject4 = 95  \n",
    "Subject5 = 93\n",
    "def percentage():\n",
    "    subject1=int(input(\"subject1:\"))\n",
    "    subject2=int(input(\"subject2:\"))\n",
    "    subject3=int(input(\"subject3:\"))\n",
    "    subject4=int(input(\"subject4:\"))\n",
    "    subject5=int(input(\"subject5:\"))\n",
    "    total = Subject1 + Subject2 + Subject3 + Subject4 + Subject5\n",
    "    print(\"Total:\", total)\n",
    "    percentage = (total / 500) * 100\n",
    "    print(\"Percentage:\", percentage)\n",
    "    return percentage"
   ]
  },
  {
   "cell_type": "code",
   "execution_count": 29,
   "id": "98d15d9b-9edd-403f-ae76-cb376ffcf309",
   "metadata": {},
   "outputs": [
    {
     "name": "stdin",
     "output_type": "stream",
     "text": [
      "subject1: 98\n",
      "subject2: 87\n",
      "subject3: 95\n",
      "subject4: 95\n",
      "subject5: 93\n"
     ]
    },
    {
     "name": "stdout",
     "output_type": "stream",
     "text": [
      "Total: 468\n",
      "Percentage: 93.60000000000001\n"
     ]
    },
    {
     "data": {
      "text/plain": [
       "93.60000000000001"
      ]
     },
     "execution_count": 29,
     "metadata": {},
     "output_type": "execute_result"
    }
   ],
   "source": [
    "percentage()"
   ]
  },
  {
   "cell_type": "code",
   "execution_count": 33,
   "id": "893c0fcb-7135-4761-a104-6527c3df119d",
   "metadata": {},
   "outputs": [],
   "source": [
    "height=32\n",
    "breadth=34\n",
    "area_formula=(height*breadth)/2\n",
    "height1=2\n",
    "height2=4\n",
    "breadth1=4\n",
    "perimeter_formula=height1+height2+breadth1\n",
    "def triangle():\n",
    "    print(\"Area of Triangle:\", area_formula)\n",
    "    print(\"Perimeter of Triangle:\",perimeter_formula)\n",
    "    return triangle\n",
    "    "
   ]
  },
  {
   "cell_type": "code",
   "execution_count": 35,
   "id": "280bb052-1e3b-4295-877f-6e8101de9dea",
   "metadata": {},
   "outputs": [
    {
     "name": "stdout",
     "output_type": "stream",
     "text": [
      "Area of Triangle: 544.0\n",
      "Perimeter of Triangle: 10\n"
     ]
    },
    {
     "data": {
      "text/plain": [
       "<function __main__.triangle()>"
      ]
     },
     "execution_count": 35,
     "metadata": {},
     "output_type": "execute_result"
    }
   ],
   "source": [
    "triangle()"
   ]
  },
  {
   "cell_type": "code",
   "execution_count": null,
   "id": "86e069af-814c-46fb-b992-693098382847",
   "metadata": {},
   "outputs": [],
   "source": []
  }
 ],
 "metadata": {
  "kernelspec": {
   "display_name": "Python [conda env:base] *",
   "language": "python",
   "name": "conda-base-py"
  },
  "language_info": {
   "codemirror_mode": {
    "name": "ipython",
    "version": 3
   },
   "file_extension": ".py",
   "mimetype": "text/x-python",
   "name": "python",
   "nbconvert_exporter": "python",
   "pygments_lexer": "ipython3",
   "version": "3.12.7"
  }
 },
 "nbformat": 4,
 "nbformat_minor": 5
}
